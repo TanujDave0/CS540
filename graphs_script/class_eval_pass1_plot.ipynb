{
 "cells": [
  {
   "cell_type": "code",
   "execution_count": null,
   "id": "45555e9f",
   "metadata": {
    "vscode": {
     "languageId": "plaintext"
    }
   },
   "outputs": [],
   "source": [
    "# Plotting code for ClassEval vs HumanEval Pass@1\n",
    "import matplotlib.pyplot as plt\n",
    "\n",
    "# Data\n",
    "models = [\n",
    "    \"GPT-4\", \"GPT-3.5\", \"Instruct-CodeGen\", \"WizardCoder\", \"Instruct-StarCoder\",\n",
    "    \"SantaCoder\", \"CodeGeeX\", \"InCoder\", \"PolyCoder\", \"Vicuna\"\n",
    "]\n",
    "class_level = [37.0, 27.0, 11.1, 11.0, 10.0, 10.0, 9.0, 6.0, 3.0, 2.0]\n",
    "method_level = [62.5, 52.5, 25.1, 23.4, 23.1, 27.3, 21.6, 21.4, 15.9, 5.6]\n",
    "human_eval = [85.4, 68.9, 32.3, 59.8, 34.1, 14.6, 22.9, 14.6, 14.6, 11.6]\n",
    "\n",
    "# Plotting\n",
    "x = range(len(models))\n",
    "width = 0.25\n",
    "\n",
    "plt.figure(figsize=(12, 6))\n",
    "plt.bar([p - width for p in x], class_level, width=width, label='ClassEval (Class-level)', color='lightgreen')\n",
    "plt.bar(x, method_level, width=width, label='ClassEval (Method-level)', color='orange')\n",
    "plt.bar([p + width for p in x], human_eval, width=width, label='HumanEval', color='lightcoral')\n",
    "\n",
    "# Labels and Title\n",
    "plt.xticks(x, models, rotation=45)\n",
    "plt.ylabel('Pass@1 (greedy)')\n",
    "plt.title('Figure 5: Pass@1 (greedy) on ClassEval and HumanEval')\n",
    "plt.legend()\n",
    "plt.tight_layout()\n",
    "plt.grid(axis='y', linestyle='--', alpha=0.7)\n",
    "\n",
    "plt.show()\n"
   ]
  }
 ],
 "metadata": {
  "language_info": {
   "name": "python"
  }
 },
 "nbformat": 4,
 "nbformat_minor": 5
}
