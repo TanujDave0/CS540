{
 "cells": [
  {
   "cell_type": "code",
   "execution_count": null,
   "id": "dfc333c0",
   "metadata": {
    "vscode": {
     "languageId": "plaintext"
    }
   },
   "outputs": [],
   "source": [
    "import json\n",
    "import pandas as pd\n",
    "\n",
    "# === STEP 1: Upload the JSON file in Colab ===\n",
    "from google.colab import files\n",
    "uploaded = files.upload()\n",
    "\n",
    "with open(list(uploaded.keys())[0]) as f:\n",
    "    pass_k_data = json.load(f)\n",
    "\n",
    "# === STEP 2: Organize results per domain (C, H, I) ===\n",
    "def extract_per_domain_tables(pass_k_data):\n",
    "    domain_tables = {\"C\": [], \"H\": [], \"I\": []}\n",
    "\n",
    "    for pass_k in [\"pass_1\", \"pass_3\", \"pass_5\"]:\n",
    "        for model_key, metrics in pass_k_data.get(pass_k, {}).items():\n",
    "            for suffix in [\"_C\", \"_H\", \"_I\"]:\n",
    "                if suffix in model_key:\n",
    "                    domain = suffix.strip(\"_\")\n",
    "                    model = model_key.replace(suffix, \"\").replace(\"(greedy)\", \"\").strip()\n",
    "                    break\n",
    "            else:\n",
    "                continue  # Skip if no domain suffix\n",
    "\n",
    "            domain_tables[domain].append({\n",
    "                \"Model\": model,\n",
    "                \"Pass@k\": pass_k,\n",
    "                \"Class Success (%)\": round(metrics.get(\"class_success\", 0.0) * 100, 1),\n",
    "                \"Method Success (%)\": round(metrics.get(\"fun_success\", 0.0) * 100, 1)\n",
    "            })\n",
    "\n",
    "    return {\n",
    "        domain: pd.DataFrame(data).sort_values(by=[\"Model\", \"Pass@k\"])\n",
    "        for domain, data in domain_tables.items()\n",
    "    }\n",
    "\n",
    "# === STEP 3: Show domain-wise tables ===\n",
    "domain_tables = extract_per_domain_tables(pass_k_data)\n",
    "\n",
    "for domain, df in domain_tables.items():\n",
    "    print(f\"\\n📌 Domain: {domain}\")\n",
    "    display(df)\n"
   ]
  }
 ],
 "metadata": {
  "language_info": {
   "name": "python"
  }
 },
 "nbformat": 4,
 "nbformat_minor": 5
}
